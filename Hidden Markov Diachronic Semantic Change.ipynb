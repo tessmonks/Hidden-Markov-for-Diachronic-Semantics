{
 "cells": [
  {
   "cell_type": "markdown",
   "id": "8af95296",
   "metadata": {},
   "source": [
    "## Hidden Markov Model of Diachronic Semantic Change\n",
    "\n",
    "In accordance with Van de Velde & De Smet (2021)\n",
    "https://www.tandfonline.com/doi/full/10.1080/09296174.2021.1877004"
   ]
  },
  {
   "cell_type": "code",
   "execution_count": 1,
   "id": "03a56e4d",
   "metadata": {},
   "outputs": [
    {
     "name": "stdout",
     "output_type": "stream",
     "text": [
      "exophoric    0.5\n",
      "anaphoric    0.5\n",
      "Name: states, dtype: float64\n",
      "1.0\n"
     ]
    }
   ],
   "source": [
    "# import dependencies\n",
    "import numpy as np\n",
    "import pandas as pd\n",
    "import networkx as nx\n",
    "import matplotlib.pyplot as plt\n",
    "%matplotlib inline\n",
    "\n",
    "# create state space and initial stage probabilities\n",
    "\n",
    "states = ['exophoric', 'anaphoric']\n",
    "pi = [0.5, 0.5]\n",
    "state_space = pd.Series(pi, index=states, name='states')\n",
    "print(state_space)\n",
    "print(state_space.sum())"
   ]
  },
  {
   "cell_type": "code",
   "execution_count": 89,
   "id": "8c1bab01",
   "metadata": {},
   "outputs": [
    {
     "name": "stdout",
     "output_type": "stream",
     "text": [
      "          exophoric anaphoric\n",
      "exophoric       0.7       0.3\n",
      "anaphoric       0.1       0.9\n",
      "\n",
      " [[0.7 0.3]\n",
      " [0.1 0.9]] (2, 2) \n",
      "\n",
      "exophoric    1.0\n",
      "anaphoric    1.0\n",
      "dtype: float64\n"
     ]
    }
   ],
   "source": [
    "# create transition matrix\n",
    "# equals transition probability matrix of changing states given a state \n",
    "# matrix is size (M x M) where M is number of states \n",
    "q_df = pd.DataFrame(columns = states, index = states)\n",
    "q_df.loc[states[0]] = [0.7, 0.3]\n",
    "q_df.loc[states[1]] = [0.1, 0.9]\n",
    "\n",
    "print(q_df)\n",
    "\n",
    "q = q_df.values\n",
    "print('\\n', q, q.shape, '\\n')\n",
    "print(q_df.sum(axis=1))"
   ]
  },
  {
   "cell_type": "code",
   "execution_count": 90,
   "id": "d6fb07a4",
   "metadata": {},
   "outputs": [
    {
     "name": "stdout",
     "output_type": "stream",
     "text": [
      "{('anaphoric', 'anaphoric'): 0.9,\n",
      " ('anaphoric', 'exophoric'): 0.1,\n",
      " ('exophoric', 'anaphoric'): 0.3,\n",
      " ('exophoric', 'exophoric'): 0.7}\n"
     ]
    }
   ],
   "source": [
    "from pprint import pprint \n",
    "\n",
    "# create a function that maps transition probability dataframe to markov edges and weights\n",
    "def _get_markov_edges(Q):\n",
    "    edges = {}\n",
    "    for col in Q.columns:\n",
    "        for idx in Q.index:\n",
    "            edges[(idx,col)] = Q.loc[idx,col]\n",
    "    return edges\n",
    "\n",
    "edges_wts = _get_markov_edges(q_df)\n",
    "pprint(edges_wts)"
   ]
  },
  {
   "cell_type": "code",
   "execution_count": 91,
   "id": "b637b8ae",
   "metadata": {},
   "outputs": [
    {
     "name": "stdout",
     "output_type": "stream",
     "text": [
      "          exophoric anaphoric\n",
      "exophoric       0.7       0.3\n",
      "anaphoric       0.1       0.9\n",
      "\n",
      " [[0.7 0.3]\n",
      " [0.1 0.9]] (2, 2) \n",
      "\n",
      "exophoric    1.0\n",
      "anaphoric    1.0\n",
      "dtype: float64\n"
     ]
    }
   ],
   "source": [
    "# create hidden transition matrix\n",
    "# alpha = trnasition probability matrix\n",
    "a_df = q_df\n",
    "\n",
    "print(a_df)\n",
    "\n",
    "a = a_df.values\n",
    "\n",
    "print('\\n', a, a.shape, '\\n')\n",
    "print(a_df.sum(axis=1))"
   ]
  },
  {
   "cell_type": "code",
   "execution_count": 99,
   "id": "9f917cda",
   "metadata": {},
   "outputs": [
    {
     "name": "stdout",
     "output_type": "stream",
     "text": [
      "          this that  pro\n",
      "exophoric  0.3  0.7  0.0\n",
      "anaphoric  0.1  0.3  0.6\n",
      "\n",
      " [[0.3 0.7 0.0]\n",
      " [0.1 0.3 0.6]] (2, 3) \n",
      "\n",
      "exophoric    1.0\n",
      "anaphoric    1.0\n",
      "dtype: float64\n"
     ]
    }
   ],
   "source": [
    "#create matrix of emission probabilities \n",
    "#beta = observation probabilities given states \n",
    "# matrix is size (M x O) where M is number of states \n",
    "# and O is number of different possible observations\n",
    "\n",
    "emissions = ['this', 'that', 'pro']\n",
    "\n",
    "b_df = pd.DataFrame(columns = emissions, index = states)\n",
    "b_df.loc[states[0]] = [0.3, 0.7, 0.0]\n",
    "b_df.loc[states[1]] = [0.1, 0.3, 0.6]\n",
    "\n",
    "print(b_df)\n",
    "\n",
    "b = b_df.values\n",
    "print('\\n', b, b.shape, '\\n')\n",
    "print(b_df.sum(axis=1))"
   ]
  },
  {
   "cell_type": "code",
   "execution_count": 100,
   "id": "17212990",
   "metadata": {},
   "outputs": [
    {
     "name": "stdout",
     "output_type": "stream",
     "text": [
      "{('anaphoric', 'anaphoric'): 0.9,\n",
      " ('anaphoric', 'exophoric'): 0.1,\n",
      " ('exophoric', 'anaphoric'): 0.3,\n",
      " ('exophoric', 'exophoric'): 0.7}\n",
      "{('anaphoric', 'pro'): 0.6,\n",
      " ('anaphoric', 'that'): 0.3,\n",
      " ('anaphoric', 'this'): 0.1,\n",
      " ('exophoric', 'pro'): 0.0,\n",
      " ('exophoric', 'that'): 0.7,\n",
      " ('exophoric', 'this'): 0.3}\n"
     ]
    }
   ],
   "source": [
    "# create graph edges and weights\n",
    "hide_edges_wts = _get_markov_edges(a_df)\n",
    "pprint(hide_edges_wts)\n",
    "\n",
    "emit_edges_wts = _get_markov_edges(b_df)\n",
    "pprint(emit_edges_wts)"
   ]
  },
  {
   "cell_type": "code",
   "execution_count": 107,
   "id": "0570830c",
   "metadata": {},
   "outputs": [
    {
     "name": "stdout",
     "output_type": "stream",
     "text": [
      "Nodes:\n",
      "['exophoric', 'anaphoric']\n",
      "\n",
      "Edges:\n",
      "OutMultiEdgeDataView([('exophoric', 'exophoric', {'weight': 0.7, 'label': 0.7}), ('exophoric', 'anaphoric', {'weight': 0.3, 'label': 0.3}), ('exophoric', 'this', {'weight': 0.3, 'label': 0.3}), ('exophoric', 'that', {'weight': 0.7, 'label': 0.7}), ('exophoric', 'pro', {'weight': 0.0, 'label': 0.0}), ('anaphoric', 'exophoric', {'weight': 0.1, 'label': 0.1}), ('anaphoric', 'anaphoric', {'weight': 0.9, 'label': 0.9}), ('anaphoric', 'this', {'weight': 0.1, 'label': 0.1}), ('anaphoric', 'that', {'weight': 0.3, 'label': 0.3}), ('anaphoric', 'pro', {'weight': 0.6, 'label': 0.6})])\n"
     ]
    },
    {
     "data": {
      "image/png": "[encoded data removed]",
      "text/plain": [
       "<Figure size 432x288 with 1 Axes>"
      ]
     },
     "metadata": {},
     "output_type": "display_data"
    }
   ],
   "source": [
    "# create graph object \n",
    "G = nx.MultiDiGraph()\n",
    "\n",
    "# nodes correspond to states \n",
    "G.add_nodes_from(states)\n",
    "print(f'Nodes:\\n{G.nodes()}\\n')\n",
    "\n",
    "# edges represent hidden probabilities\n",
    "for k, v in hide_edges_wts.items():\n",
    "    tmp_origin, tmp_destination = k[0], k[1]\n",
    "    G.add_edge(tmp_origin, tmp_destination, weight=v, label=v)\n",
    "\n",
    "# edges represent emission probabilities\n",
    "for k, v in emit_edges_wts.items():\n",
    "    tmp_origin, tmp_destination = k[0], k[1]\n",
    "    G.add_edge(tmp_origin, tmp_destination, weight=v, label=v)\n",
    "\n",
    "print(f'Edges:')\n",
    "pprint(G.edges(data=True))\n",
    "\n",
    "pos = nx.drawing.nx_pydot.graphviz_layout(G, prog = 'dot')\n",
    "\n",
    "nx.draw(G, pos)\n",
    "\n",
    "# create edge labels for jupyter plot but is not necessary\n",
    "emit_edge_labels = {(n1,n2):d['label'] for n1,n2,d in G.edges(data=True)}\n",
    "nx.draw_networkx_edge_labels(G , pos, edge_labels=emit_edge_labels)\n",
    "\n",
    "plt.show()"
   ]
  },
  {
   "cell_type": "code",
   "execution_count": 102,
   "id": "24e7f384",
   "metadata": {},
   "outputs": [
    {
     "name": "stdout",
     "output_type": "stream",
     "text": [
      "   Obs_code Obs_seq\n",
      "0         1    that\n",
      "1         1    that\n",
      "2         2     pro\n",
      "3         1    that\n",
      "4         0    this\n",
      "5         1    that\n",
      "6         2     pro\n",
      "7         1    that\n",
      "8         0    this\n",
      "9         2     pro\n",
      "10        2     pro\n",
      "11        0    this\n",
      "12        1    that\n",
      "13        0    this\n",
      "14        1    that\n"
     ]
    }
   ],
   "source": [
    "# observation map of utterance and state \n",
    "obs_map = {'this': 0, 'that':1, 'pro':2}\n",
    "obs = np.array([1,1,2,1,0,1,2,1,0,2,2,0,1,0,1])\n",
    "\n",
    "inv_obs_map = dict((v,k) for k, v in obs_map.items())\n",
    "obs_seq = [inv_obs_map[v] for v in list(obs)]\n",
    "\n",
    "print( pd.DataFrame(np.column_stack([obs, obs_seq]), \n",
    "                   columns = ['Obs_code', 'Obs_seq']))"
   ]
  },
  {
   "cell_type": "code",
   "execution_count": 103,
   "id": "67b422f2",
   "metadata": {},
   "outputs": [
    {
     "name": "stdout",
     "output_type": "stream",
     "text": [
      "\n",
      "Start Walk Forward\n",
      "\n",
      "s=0 and t=1: phi[0, 1] = 0.0\n",
      "s=1 and t=1: phi[1, 1] = 1.0\n",
      "s=0 and t=2: phi[0, 2] = 0.0\n",
      "s=1 and t=2: phi[1, 2] = 0.0\n",
      "s=0 and t=3: phi[0, 3] = 1.0\n",
      "s=1 and t=3: phi[1, 3] = 1.0\n",
      "s=0 and t=4: phi[0, 4] = 0.0\n",
      "s=1 and t=4: phi[1, 4] = 1.0\n",
      "s=0 and t=5: phi[0, 5] = 0.0\n",
      "s=1 and t=5: phi[1, 5] = 1.0\n",
      "s=0 and t=6: phi[0, 6] = 0.0\n",
      "s=1 and t=6: phi[1, 6] = 1.0\n",
      "s=0 and t=7: phi[0, 7] = 1.0\n",
      "s=1 and t=7: phi[1, 7] = 1.0\n",
      "s=0 and t=8: phi[0, 8] = 0.0\n",
      "s=1 and t=8: phi[1, 8] = 1.0\n",
      "s=0 and t=9: phi[0, 9] = 0.0\n",
      "s=1 and t=9: phi[1, 9] = 1.0\n",
      "s=0 and t=10: phi[0, 10] = 1.0\n",
      "s=1 and t=10: phi[1, 10] = 1.0\n",
      "s=0 and t=11: phi[0, 11] = 1.0\n",
      "s=1 and t=11: phi[1, 11] = 1.0\n",
      "s=0 and t=12: phi[0, 12] = 0.0\n",
      "s=1 and t=12: phi[1, 12] = 1.0\n",
      "s=0 and t=13: phi[0, 13] = 0.0\n",
      "s=1 and t=13: phi[1, 13] = 1.0\n",
      "s=0 and t=14: phi[0, 14] = 0.0\n",
      "s=1 and t=14: phi[1, 14] = 1.0\n",
      "--------------------------------------------------\n",
      "Start Backtrace\n",
      "\n",
      "path[13] = 0.0\n",
      "path[12] = 0.0\n",
      "path[11] = 0.0\n",
      "path[10] = 1.0\n",
      "path[9] = 1.0\n",
      "path[8] = 1.0\n",
      "path[7] = 1.0\n",
      "path[6] = 1.0\n",
      "path[5] = 1.0\n",
      "path[4] = 1.0\n",
      "path[3] = 1.0\n",
      "path[2] = 1.0\n",
      "path[1] = 0.0\n",
      "path[0] = 0.0\n",
      "\n",
      "single best state path: \n",
      " [0. 0. 1. 1. 1. 1. 1. 1. 1. 1. 1. 0. 0. 0. 0.]\n",
      "delta:\n",
      " [[3.50000000e-01 1.71500000e-01 0.00000000e+00 2.16090000e-03\n",
      "  4.53789000e-04 2.22356610e-04 0.00000000e+00 7.65593905e-06\n",
      "  1.60774720e-06 0.00000000e+00 0.00000000e+00 2.32495994e-08\n",
      "  1.13923037e-08 2.39238378e-09 1.17226805e-09]\n",
      " [1.50000000e-01 4.05000000e-02 3.08700000e-02 8.33490000e-03\n",
      "  7.50141000e-04 2.02538070e-04 1.09370558e-04 2.95300506e-05\n",
      "  2.65770455e-06 1.43516046e-06 7.74986648e-07 6.97487983e-08\n",
      "  1.88321755e-08 1.69489580e-09 4.57621866e-10]]\n",
      "phi:\n",
      " [[0. 0. 0. 1. 0. 0. 0. 1. 0. 0. 1. 1. 0. 0. 0.]\n",
      " [0. 1. 0. 1. 1. 1. 1. 1. 1. 1. 1. 1. 1. 1. 1.]]\n"
     ]
    }
   ],
   "source": [
    "# define Viterbi algorithm for shortest path \n",
    "\n",
    "def viterbi(pi, a, b, obs):\n",
    "    \n",
    "    nStates = np.shape(b)[0]\n",
    "    T = np.shape(obs)[0]\n",
    "    \n",
    "    # init blank path\n",
    "    path = np.zeros(T)\n",
    "    # delta --> highest probability of any path that reaches state i\n",
    "    delta = np.zeros((nStates, T))\n",
    "    # phi --> argmax by time step for each state\n",
    "    phi = np.zeros((nStates, T))\n",
    "    \n",
    "    # init delta and phi \n",
    "    delta[:, 0] = pi * b[:, obs[0]]\n",
    "    phi[:, 0] = 0\n",
    "\n",
    "    print('\\nStart Walk Forward\\n')    \n",
    "    # the forward algorithm extension\n",
    "    for t in range(1, T):\n",
    "        for s in range(nStates):\n",
    "            delta[s, t] = np.max(delta[:, t-1] * a[:, s]) * b[s, obs[t]] \n",
    "            phi[s, t] = np.argmax(delta[:, t-1] * a[:, s])\n",
    "            print('s={s} and t={t}: phi[{s}, {t}] = {phi}'.format(s=s, t=t, phi=phi[s, t]))\n",
    "    \n",
    "    # find optimal path\n",
    "    print('-'*50)\n",
    "    print('Start Backtrace\\n')\n",
    "    path[T-1] = np.argmax(delta[:, T-1])\n",
    "    #p('init path\\n    t={} path[{}-1]={}\\n'.format(T-1, T, path[T-1]))\n",
    "    for t in range(T-2, -1, -1):\n",
    "        index1 = int(path[t+1])\n",
    "        index2 = int(t+1)\n",
    "        path[t] = phi[index1, index2]\n",
    "        #p(' '*4 + 't={t}, path[{t}+1]={path}, [{t}+1]={i}'.format(t=t, path=path[t+1], i=[t+1]))\n",
    "        print('path[{}] = {}'.format(t, path[t]))\n",
    "        \n",
    "    return path, delta, phi\n",
    "\n",
    "path, delta, phi = viterbi(pi, a, b, obs)\n",
    "print('\\nsingle best state path: \\n', path)\n",
    "print('delta:\\n', delta)\n",
    "print('phi:\\n', phi)"
   ]
  },
  {
   "cell_type": "code",
   "execution_count": 104,
   "id": "f00ec40c",
   "metadata": {},
   "outputs": [
    {
     "data": {
      "text/html": [
       "<div>\n",
       "<style scoped>\n",
       "    .dataframe tbody tr th:only-of-type {\n",
       "        vertical-align: middle;\n",
       "    }\n",
       "\n",
       "    .dataframe tbody tr th {\n",
       "        vertical-align: top;\n",
       "    }\n",
       "\n",
       "    .dataframe thead th {\n",
       "        text-align: right;\n",
       "    }\n",
       "</style>\n",
       "<table border=\"1\" class=\"dataframe\">\n",
       "  <thead>\n",
       "    <tr style=\"text-align: right;\">\n",
       "      <th></th>\n",
       "      <th>Observation</th>\n",
       "      <th>Best_Path</th>\n",
       "    </tr>\n",
       "  </thead>\n",
       "  <tbody>\n",
       "    <tr>\n",
       "      <th>0</th>\n",
       "      <td>that</td>\n",
       "      <td>exophoric</td>\n",
       "    </tr>\n",
       "    <tr>\n",
       "      <th>1</th>\n",
       "      <td>that</td>\n",
       "      <td>exophoric</td>\n",
       "    </tr>\n",
       "    <tr>\n",
       "      <th>2</th>\n",
       "      <td>pro</td>\n",
       "      <td>anaphoric</td>\n",
       "    </tr>\n",
       "    <tr>\n",
       "      <th>3</th>\n",
       "      <td>that</td>\n",
       "      <td>anaphoric</td>\n",
       "    </tr>\n",
       "    <tr>\n",
       "      <th>4</th>\n",
       "      <td>this</td>\n",
       "      <td>anaphoric</td>\n",
       "    </tr>\n",
       "    <tr>\n",
       "      <th>5</th>\n",
       "      <td>that</td>\n",
       "      <td>anaphoric</td>\n",
       "    </tr>\n",
       "    <tr>\n",
       "      <th>6</th>\n",
       "      <td>pro</td>\n",
       "      <td>anaphoric</td>\n",
       "    </tr>\n",
       "    <tr>\n",
       "      <th>7</th>\n",
       "      <td>that</td>\n",
       "      <td>anaphoric</td>\n",
       "    </tr>\n",
       "    <tr>\n",
       "      <th>8</th>\n",
       "      <td>this</td>\n",
       "      <td>anaphoric</td>\n",
       "    </tr>\n",
       "    <tr>\n",
       "      <th>9</th>\n",
       "      <td>pro</td>\n",
       "      <td>anaphoric</td>\n",
       "    </tr>\n",
       "    <tr>\n",
       "      <th>10</th>\n",
       "      <td>pro</td>\n",
       "      <td>anaphoric</td>\n",
       "    </tr>\n",
       "    <tr>\n",
       "      <th>11</th>\n",
       "      <td>this</td>\n",
       "      <td>exophoric</td>\n",
       "    </tr>\n",
       "    <tr>\n",
       "      <th>12</th>\n",
       "      <td>that</td>\n",
       "      <td>exophoric</td>\n",
       "    </tr>\n",
       "    <tr>\n",
       "      <th>13</th>\n",
       "      <td>this</td>\n",
       "      <td>exophoric</td>\n",
       "    </tr>\n",
       "    <tr>\n",
       "      <th>14</th>\n",
       "      <td>that</td>\n",
       "      <td>exophoric</td>\n",
       "    </tr>\n",
       "  </tbody>\n",
       "</table>\n",
       "</div>"
      ],
      "text/plain": [
       "   Observation  Best_Path\n",
       "0         that  exophoric\n",
       "1         that  exophoric\n",
       "2          pro  anaphoric\n",
       "3         that  anaphoric\n",
       "4         this  anaphoric\n",
       "5         that  anaphoric\n",
       "6          pro  anaphoric\n",
       "7         that  anaphoric\n",
       "8         this  anaphoric\n",
       "9          pro  anaphoric\n",
       "10         pro  anaphoric\n",
       "11        this  exophoric\n",
       "12        that  exophoric\n",
       "13        this  exophoric\n",
       "14        that  exophoric"
      ]
     },
     "execution_count": 104,
     "metadata": {},
     "output_type": "execute_result"
    }
   ],
   "source": [
    "state_map = {0:'exophoric', 1:'anaphoric'}\n",
    "state_path = [state_map[v] for v in path]\n",
    "\n",
    "(pd.DataFrame()\n",
    " .assign(Observation=obs_seq)\n",
    " .assign(Best_Path=state_path))"
   ]
  },
  {
   "cell_type": "code",
   "execution_count": null,
   "id": "ab7af02f",
   "metadata": {},
   "outputs": [],
   "source": []
  },
  {
   "cell_type": "code",
   "execution_count": null,
   "id": "b40e99c3",
   "metadata": {},
   "outputs": [],
   "source": []
  }
 ],
 "metadata": {
  "kernelspec": {
   "display_name": "Python 3 (ipykernel)",
   "language": "python",
   "name": "python3"
  },
  "language_info": {
   "codemirror_mode": {
    "name": "ipython",
    "version": 3
   },
   "file_extension": ".py",
   "mimetype": "text/x-python",
   "name": "python",
   "nbconvert_exporter": "python",
   "pygments_lexer": "ipython3",
   "version": "3.7.4"
  }
 },
 "nbformat": 4,
 "nbformat_minor": 5
}
